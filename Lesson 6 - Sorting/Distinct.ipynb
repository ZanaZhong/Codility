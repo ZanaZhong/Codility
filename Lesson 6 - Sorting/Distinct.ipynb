{
  "nbformat": 4,
  "nbformat_minor": 0,
  "metadata": {
    "colab": {
      "name": "Distinct.ipynb",
      "provenance": []
    },
    "kernelspec": {
      "name": "python3",
      "display_name": "Python 3"
    }
  },
  "cells": [
    {
      "cell_type": "markdown",
      "metadata": {
        "id": "I5joO4zHcKMr",
        "colab_type": "text"
      },
      "source": [
        "## Distinct\n",
        "---\n",
        "Write a function\n",
        "\n",
        "def solution(A)\n",
        "\n",
        "that, given an array A consisting of N integers, returns the number of distinct values in array A.\n",
        "\n",
        "For example, given array A consisting of six elements such that:\n",
        "\n",
        "    A[0] = 2    A[1] = 1    A[2] = 1\n",
        "    A[3] = 2    A[4] = 3    A[5] = 1\n",
        "the function should return 3, because there are 3 distinct values appearing in array A, namely 1, 2 and 3.\n",
        "\n",
        "Write an efficient algorithm for the following assumptions:\n",
        "\n",
        "N is an integer within the range [0..100,000];\n",
        "each element of array A is an integer within the range [−1,000,000..1,000,000]."
      ]
    },
    {
      "cell_type": "code",
      "metadata": {
        "id": "6_yWUBlvcHto",
        "colab_type": "code",
        "colab": {
          "base_uri": "https://localhost:8080/",
          "height": 68
        },
        "outputId": "162a98f3-9d55-4757-ca49-0b595e186f80"
      },
      "source": [
        "def solution(A):\n",
        "    return len(set(A))\n",
        "\n",
        "A = [2, 1, 1, 2, 3, 1]\n",
        "print(solution(A))"
      ],
      "execution_count": 5,
      "outputs": [
        {
          "output_type": "stream",
          "text": [
            "3\n",
          ],
          "name": "stdout"
        }
      ]
    }
  ]
}