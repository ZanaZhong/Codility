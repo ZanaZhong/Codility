{
  "nbformat": 4,
  "nbformat_minor": 0,
  "metadata": {
    "colab": {
      "name": "NumberOfDiscIntersections.ipynb",
      "provenance": []
    },
    "kernelspec": {
      "name": "python3",
      "display_name": "Python 3"
    }
  },
  "cells": [
    {
      "cell_type": "markdown",
      "metadata": {
        "id": "I5joO4zHcKMr",
        "colab_type": "text"
      },
      "source": [
        "## NumberOfDiscIntersections\n",
        "---\n",
        "We draw N discs on a plane. The discs are numbered from 0 to N − 1. An array A of N non-negative integers, specifying the radiuses of the discs, is given. The J-th disc is drawn with its center at (J, 0) and radius A[J].\n",
        "\n",
        "We say that the J-th disc and K-th disc intersect if J ≠ K and the J-th and K-th discs have at least one common point (assuming that the discs contain their borders).\n",
        "\n",
        "The figure below shows discs drawn for N = 6 and A as follows:\n",
        "\n",
        "    A[0] = 1\n",
        "    A[1] = 5\n",
        "    A[2] = 2\n",
        "    A[3] = 1\n",
        "    A[4] = 4\n",
        "    A[5] = 0\n",
        "There are eleven (unordered) pairs of discs that intersect, namely:\n",
        "\n",
        "discs 1 and 4 intersect, and both intersect with all the other discs;\n",
        "disc 2 also intersects with discs 0 and 3.\n",
        "Write a function:\n",
        "\n",
        "    def solution(A)\n",
        "\n",
        "that, given an array A describing N discs as explained above, returns the number of (unordered) pairs of intersecting discs. The function should return −1 if the number of intersecting pairs exceeds 10,000,000.\n",
        "\n",
        "Given array A shown above, the function should return 11, as explained above.\n",
        "\n",
        "Write an efficient algorithm for the following assumptions:\n",
        "\n",
        "    N is an integer within the range [0..100,000];\n",
        "    each element of array A is an integer within the range [0..2,147,483,647].\n",
        "\n",
        "IT SHOULD BE : \n",
        "\n",
        "    0 and 1,  \n",
        "    0 and 2,  \n",
        "    0 and 4,  \n",
        "    1 and 2,  \n",
        "    1 and 3,  \n",
        "    1 and 4,  \n",
        "    1 and 5,  \n",
        "    2 and 3,  \n",
        "    2 and 4,  \n",
        "    3 and 4,  \n",
        "    4 and 5.\n"
      ]
    },
    {
      "cell_type": "code",
      "metadata": {
        "id": "6_yWUBlvcHto",
        "colab_type": "code",
        "colab": {}
      },
      "source": [
        "def solution(A):\n",
        "    counter = 0\n",
        "    left = [k - v for k, v in enumerate(A)]\n",
        "    right = [k + v for k, v in enumerate(A)]\n",
        "\n",
        "    for k, v in enumerate(right):\n",
        "        for j in range(k+1, len(right)):\n",
        "            if v >= left[j]:\n",
        "                counter += 1\n",
        "        if counter > 10**7 : return -1\n",
        "    return counter\n",
        "\n",
        "# test by myself\n",
        "A = [1, 5, 2, 1, 4, 0]\n",
        "print(solution(A))\n",
        "# 56%\n",
        "\n",
        "# ------- BY: Thiago Papageorgiou ------- #\n",
        "def solution(A):\n",
        "    upper = sorted([k + v for k, v in enumerate(A)])\n",
        "    lower = sorted([k - v for k, v in enumerate(A)])\n",
        "\n",
        "    j = 0\n",
        "    counter = 0\n",
        "    for i, v in enumerate(upper):\n",
        "        while j < len(upper) and v >= lower[j]:\n",
        "            counter += j-i\n",
        "            # print(\"count\", counter,\"i:\", i, \"j:\", j, \"v\", v)\n",
        "            j += 1\n",
        "        if counter > 10**7 : return -1\n",
        "\n",
        "    return counter\n",
        "A = [1, 5, 2, 1, 4, 0]\n",
        "print(solution(A))"
      ],
      "execution_count": 0,
      "outputs": []
    }
  ]
}