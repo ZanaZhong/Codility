{
  "nbformat": 4,
  "nbformat_minor": 0,
  "metadata": {
    "colab": {
      "name": "MaxProductOfThree.ipynb",
      "provenance": []
    },
    "kernelspec": {
      "name": "python3",
      "display_name": "Python 3"
    }
  },
  "cells": [
    {
      "cell_type": "markdown",
      "metadata": {
        "id": "I5joO4zHcKMr",
        "colab_type": "text"
      },
      "source": [
        "## MaxProductOfThree\n",
        "---\n",
        "A non-empty array A consisting of N integers is given. The product of triplet (P, Q, R) equates to A[P] * A[Q] * A[R] (0 ≤ P < Q < R < N).\n",
        "\n",
        "For example, array A such that:\n",
        "\n",
        "    A[0] = -3\n",
        "    A[1] = 1\n",
        "    A[2] = 2\n",
        "    A[3] = -2\n",
        "    A[4] = 5\n",
        "    A[5] = 6\n",
        "contains the following example triplets:\n",
        "\n",
        "    (0, 1, 2), product is −3 * 1 * 2 = −6\n",
        "    (1, 2, 4), product is 1 * 2 * 5 = 10\n",
        "    (2, 4, 5), product is 2 * 5 * 6 = 60\n",
        "    Your goal is to find the maximal product of any triplet.\n",
        "\n",
        "Write a function:\n",
        "\n",
        "    def solution(A)\n",
        "\n",
        "that, given a non-empty array A, returns the value of the maximal product of any triplet.\n",
        "\n",
        "For example, given array A such that:\n",
        "\n",
        "    A[0] = -3\n",
        "    A[1] = 1\n",
        "    A[2] = 2\n",
        "    A[3] = -2\n",
        "    A[4] = 5\n",
        "    A[5] = 6\n",
        "  the function should return 60, as the product of triplet (2, 4, 5) is maximal.\n",
        "\n",
        "Write an efficient algorithm for the following assumptions:\n",
        "\n",
        "N is an integer within the range [3..100,000];\n",
        "each element of array A is an integer within the range [−1,000..1,000]."
      ]
    },
    {
      "cell_type": "code",
      "metadata": {
        "id": "6_yWUBlvcHto",
        "colab_type": "code",
        "colab": {}
      },
      "source": [
        "from functools import reduce\n",
        "def solution(A):\n",
        "    a = sorted(A)\n",
        "    # 可能會遇到除了最後一個，其他都是負數的情形 a[0] a[1] 為負\n",
        "    return max(reduce(lambda x, y : x * y, a[-3:]), a[-1] * a[0] * a[1])\n",
        "    # return max(a[-3] * a[-2] * a[-1], a[-1] * a[0] * a[1])\n",
        "\n",
        "A = [-3, 1, 2, -2, 5, 6]\n",
        "print(solution(A))"
      ],
      "execution_count": 0,
      "outputs": []
    }
  ]
}