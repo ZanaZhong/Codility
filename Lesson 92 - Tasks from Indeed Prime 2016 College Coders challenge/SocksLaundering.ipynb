{
  "nbformat": 4,
  "nbformat_minor": 0,
  "metadata": {
    "colab": {
      "name": "SocksLaundering.ipynb",
      "provenance": []
    },
    "kernelspec": {
      "name": "python3",
      "display_name": "Python 3"
    }
  },
  "cells": [
    {
      "cell_type": "markdown",
      "metadata": {
        "id": "I5joO4zHcKMr",
        "colab_type": "text"
      },
      "source": [
        "## SocksLaundering\n",
        "---\n"
      ]
    },
    {
      "cell_type": "code",
      "metadata": {
        "id": "6_yWUBlvcHto",
        "colab_type": "code",
        "colab": {}
      },
      "source": [
        "def solution(K, C, D):\n",
        "    C = count_socks(C)\n",
        "    D = count_socks(D)\n",
        "\n",
        "    for c in C:\n",
        "        if C[c] % 2 == 1:\n",
        "            if K > 0 and D.get(c, None):\n",
        "                # print(c, D.get(c, None))\n",
        "                K -= 1\n",
        "                C[c] += 1\n",
        "                D[c] -= 1\n",
        "            else:\n",
        "                C[c] -= 1\n",
        "    K = K // 2\n",
        "    \n",
        "    for d in D:\n",
        "        if K > 0:\n",
        "            w = min(K, D.count(d) // 2)\n",
        "            K -= w\n",
        "            C[d] += w * 2\n",
        "    return sum(C[sock] for sock in C) // 2\n",
        "\n",
        "def count_socks(S):\n",
        "    socks = {}\n",
        "    for s in S:\n",
        "        socks[s] = socks.get(s, 0) + 1\n",
        "    return socks\n",
        "      \n",
        "\n",
        "K = 2\n",
        "C = [1, 2, 1, 1]\n",
        "D = [1, 4, 3, 2, 4]\n",
        "solution(K, C, D)"
      ],
      "execution_count": 0,
      "outputs": []
    }
  ]
}