{
  "nbformat": 4,
  "nbformat_minor": 0,
  "metadata": {
    "colab": {
      "name": "Dominator.ipynb",
      "provenance": []
    },
    "kernelspec": {
      "name": "python3",
      "display_name": "Python 3"
    }
  },
  "cells": [
    {
      "cell_type": "markdown",
      "metadata": {
        "id": "I5joO4zHcKMr",
        "colab_type": "text"
      },
      "source": [
        "## Dominator\n",
        "> Leader 需 > len(dic)\n",
        "---\n",
        "An array A consisting of N integers is given. The dominator of array A is the value that occurs in more than half of the elements of A.\n",
        "\n",
        "For example, consider array A such that\n",
        "\n",
        "    A[0] = 3    A[1] = 4    A[2] =  3\n",
        "    A[3] = 2    A[4] = 3    A[5] = -1\n",
        "    A[6] = 3    A[7] = 3\n",
        "The dominator of A is 3 because it occurs in 5 out of 8 elements of A (namely in those with indices 0, 2, 4, 6 and 7) and 5 is more than a half of 8.\n",
        "\n",
        "Write a function\n",
        "\n",
        "    def solution(A)\n",
        "\n",
        "that, given an array A consisting of N integers, returns index of any element of array A in which the dominator of A occurs. The function should return −1 if array A does not have a dominator.\n",
        "\n",
        "For example, given array A such that\n",
        "\n",
        "    A[0] = 3    A[1] = 4    A[2] =  3\n",
        "    A[3] = 2    A[4] = 3    A[5] = -1\n",
        "    A[6] = 3    A[7] = 3\n",
        "the function may return 0, 2, 4, 6 or 7, as explained above.\n",
        "\n",
        "Write an efficient algorithm for the following assumptions:\n",
        "\n",
        "N is an integer within the range [0..100,000];\n",
        "each element of array A is an integer within the range [−2,147,483,648..2,147,483,647].\n",
        "\n",
        "---\n",
        "### reference:\n",
        "- from collections import Counter  \n",
        "  [most_common](https://pythontic.com/containers/counter/most_common)"
      ]
    },
    {
      "cell_type": "code",
      "metadata": {
        "id": "6_yWUBlvcHto",
        "colab_type": "code",
        "colab": {}
      },
      "source": [
        "from collections import Counter\n",
        "\n",
        "def solution(A):\n",
        "    if len(A) == 0:\n",
        "        return -1\n",
        "    \n",
        "    dominator, counts = Counter(A).most_common()[0]\n",
        "\n",
        "    if counts <= len(A) // 2:\n",
        "        return -1\n",
        "\n",
        "    for k, v in enumerate(A):\n",
        "        if v == dominator:\n",
        "            return k\n",
        "\n",
        "# test by myself\n",
        "A = [3 ,4 ,3 ,2 ,3 ,-1 ,3 ,3]\n",
        "print(solution(A))\n",
        "\n",
        "A = []\n",
        "print(solution(A))\n",
        "\n",
        "A = [1]\n",
        "print(solution(A))\n",
        "\n",
        "A = [1, 0]\n",
        "print(solution(A))"
      ],
      "execution_count": 0,
      "outputs": []
    }
  ]
}