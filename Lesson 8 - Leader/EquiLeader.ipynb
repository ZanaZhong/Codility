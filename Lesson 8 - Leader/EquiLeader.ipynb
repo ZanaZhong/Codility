{
  "nbformat": 4,
  "nbformat_minor": 0,
  "metadata": {
    "colab": {
      "name": "EquiLeader.ipynb",
      "provenance": []
    },
    "kernelspec": {
      "name": "python3",
      "display_name": "Python 3"
    }
  },
  "cells": [
    {
      "cell_type": "markdown",
      "metadata": {
        "id": "I5joO4zHcKMr",
        "colab_type": "text"
      },
      "source": [
        "## EquiLeader\n",
        "---\n",
        "A non-empty array A consisting of N integers is given.\n",
        "\n",
        "The leader of this array is the value that occurs in more than half of the elements of A.\n",
        "\n",
        "An equi leader is an index S such that 0 ≤ S < N − 1 and two sequences A[0], A[1], ..., A[S] and A[S + 1], A[S + 2], ..., A[N − 1] have leaders of the same value.\n",
        "\n",
        "For example, given array A such that:\n",
        "\n",
        "    A[0] = 4\n",
        "    A[1] = 3\n",
        "    A[2] = 4\n",
        "    A[3] = 4\n",
        "    A[4] = 4\n",
        "    A[5] = 2\n",
        "we can find two equi leaders:\n",
        "\n",
        "0, because sequences: (4) and (3, 4, 4, 4, 2) have the same leader, whose value is 4.\n",
        "2, because sequences: (4, 3, 4) and (4, 4, 2) have the same leader, whose value is 4.\n",
        "The goal is to count the number of equi leaders.\n",
        "\n",
        "Write a function:\n",
        "\n",
        "def solution(A)\n",
        "\n",
        "that, given a non-empty array A consisting of N integers, returns the number of equi leaders.\n",
        "\n",
        "For example, given:\n",
        "\n",
        "    A[0] = 4\n",
        "    A[1] = 3\n",
        "    A[2] = 4\n",
        "    A[3] = 4\n",
        "    A[4] = 4\n",
        "    A[5] = 2\n",
        "the function should return 2, as explained above.\n",
        "\n",
        "Write an efficient algorithm for the following assumptions:\n",
        "\n",
        "N is an integer within the range [1..100,000];\n",
        "each element of array A is an integer within the range [−1,000,000,000..1,000,000,000]."
      ]
    },
    {
      "cell_type": "code",
      "metadata": {
        "id": "6_yWUBlvcHto",
        "colab_type": "code",
        "colab": {}
      },
      "source": [
        "from collections import Counter\n",
        "\n",
        "def solution(A):\n",
        "    dominator, counts = Counter(A).most_common()[0]\n",
        "\n",
        "    left = result = 0\n",
        "    for k, v in enumerate(A):\n",
        "        if v == dominator:\n",
        "            left += 1\n",
        "        # print(left, (k + 1)//2, counts - left, (len(A) - (k + 1)) // 2)\n",
        "        if left > (k + 1) // 2 and (counts - left) > (len(A) - (k + 1)) // 2:\n",
        "            result += 1\n",
        "    return result\n",
        "\n",
        "A = [4, 3, 4, 4, 2, 4]\n",
        "solution(A)"
      ],
      "execution_count": 0,
      "outputs": []
    }
  ]
}