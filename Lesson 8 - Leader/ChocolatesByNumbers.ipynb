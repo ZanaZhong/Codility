{
  "nbformat": 4,
  "nbformat_minor": 0,
  "metadata": {
    "colab": {
      "name": "ChocolatesByNumbers.ipynb",
      "provenance": []
    },
    "kernelspec": {
      "name": "python3",
      "display_name": "Python 3"
    }
  },
  "cells": [
    {
      "cell_type": "markdown",
      "metadata": {
        "id": "I5joO4zHcKMr",
        "colab_type": "text"
      },
      "source": [
        "## ChocolatesByNumbers\n",
        "---\n",
        "\n",
        "最大公因數 -> 不懂"
      ]
    },
    {
      "cell_type": "code",
      "metadata": {
        "id": "6_yWUBlvcHto",
        "colab_type": "code",
        "colab": {}
      },
      "source": [
        "def solution(N, M):\n",
        "    x = 0\n",
        "    counter = 1\n",
        "    while ((x + M) % N) != 0:\n",
        "        x = (x + M) % N;            \n",
        "        counter += 1\n",
        "    return counter\n",
        "\n",
        "N = 10\n",
        "M = 4\n",
        "print(solution(N, M))\n",
        "# price = 62%\n",
        "\n",
        "def gcd(a, b):\n",
        "    # Get the greatest common divisor\n",
        "    if (a % b == 0):\n",
        "        return b\n",
        "    else:\n",
        "        return gcd(b, a % b)\n",
        "        \n",
        "def solution(N, M):\n",
        "    return N / gcd(N, M)\n",
        "\n",
        "N = 10\n",
        "M = 4\n",
        "print(solution(N, M))"
      ],
      "execution_count": 0,
      "outputs": []
    }
  ]
}