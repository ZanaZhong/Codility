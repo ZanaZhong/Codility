{
  "nbformat": 4,
  "nbformat_minor": 0,
  "metadata": {
    "colab": {
      "name": "Nesting.ipynb",
      "provenance": []
    },
    "kernelspec": {
      "name": "python3",
      "display_name": "Python 3"
    }
  },
  "cells": [
    {
      "cell_type": "markdown",
      "metadata": {
        "id": "I5joO4zHcKMr",
        "colab_type": "text"
      },
      "source": [
        "## Nesting\n",
        "---\n",
        "\n",
        "不懂"
      ]
    },
    {
      "cell_type": "code",
      "metadata": {
        "id": "6_yWUBlvcHto",
        "colab_type": "code",
        "colab": {}
      },
      "source": [
        "def solution(S):\n",
        "    # s = \"()\"\n",
        "    if len(S) == 0:\n",
        "        return 1\n",
        "    elif len(S) % 2 == 1:\n",
        "        return 0\n",
        "    # if (set(S) == set(s)):\n",
        "    #     return 1 if S.count('(') == S.count(')') else 0\n",
        "    # else:\n",
        "    #     return 0\n",
        "    nest = []\n",
        "    for s in S:\n",
        "        if s == \"(\":\n",
        "            nest.append(s)\n",
        "        else:\n",
        "            if len(nest) == 0:\n",
        "                return 0\n",
        "            if s == \")\":\n",
        "                nest.pop()\n",
        "            else:\n",
        "                return 0\n",
        "    return 1 if len(nest) == 0 else 0\n",
        "\n",
        "\n",
        "S = \"(()(())())\"\n",
        "print(solution(S))\n",
        "\n",
        "S = \"(()\"\n",
        "print(solution(S))\n",
        "\n",
        "S = \"[)\"\n",
        "print(solution(S))"
      ],
      "execution_count": 0,
      "outputs": []
    }
  ]
}