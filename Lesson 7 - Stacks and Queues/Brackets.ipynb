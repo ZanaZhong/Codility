{
  "nbformat": 4,
  "nbformat_minor": 0,
  "metadata": {
    "colab": {
      "name": "Brackets.ipynb",
      "provenance": []
    },
    "kernelspec": {
      "name": "python3",
      "display_name": "Python 3"
    }
  },
  "cells": [
    {
      "cell_type": "markdown",
      "metadata": {
        "id": "I5joO4zHcKMr",
        "colab_type": "text"
      },
      "source": [
        "## Brackets"
      ]
    },
    {
      "cell_type": "code",
      "metadata": {
        "id": "6_yWUBlvcHto",
        "colab_type": "code",
        "colab": {}
      },
      "source": [
        "def solution(S):\n",
        "    match = {\"]\":\"[\", \"}\":\"{\", \")\": \"(\"}\n",
        "    push = ['[', '{', '(']\n",
        "    bracket = []\n",
        "\n",
        "    if len(S) % 2 == 1:\n",
        "        return 0\n",
        "    \n",
        "    for s in S:\n",
        "        if s in push:\n",
        "            bracket.append(s)\n",
        "            # print(bracket)\n",
        "        else:\n",
        "            if len(bracket) == 0:\n",
        "                return 0\n",
        "            elif match[s] != bracket.pop():\n",
        "                return 0\n",
        "    \n",
        "    return 1 if len(bracket) == 0 else 0\n",
        "\n",
        "S = \"{[()()]}\"\n",
        "print(solution(S))\n",
        "\n",
        "S = \"([)()]\"\n",
        "print(solution(S))"
      ],
      "execution_count": 0,
      "outputs": []
    }
  ]
}