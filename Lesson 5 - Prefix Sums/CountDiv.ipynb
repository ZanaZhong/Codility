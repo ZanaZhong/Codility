{
  "nbformat": 4,
  "nbformat_minor": 0,
  "metadata": {
    "colab": {
      "name": "CountDiv.ipynb",
      "provenance": []
    },
    "kernelspec": {
      "name": "python3",
      "display_name": "Python 3"
    }
  },
  "cells": [
    {
      "cell_type": "markdown",
      "metadata": {
        "id": "I5joO4zHcKMr",
        "colab_type": "text"
      },
      "source": [
        "## CountDiv\n",
        "---\n",
        "\n",
        "Write a function:\n",
        "\n",
        "    def solution(A, B, K)\n",
        "\n",
        "that, given three integers A, B and K, returns the number of integers within the range [A..B] that are divisible by K, i.e.:\n",
        "\n",
        "{ i : A ≤ i ≤ B, i mod K = 0 }\n",
        "\n",
        "For example, for A = 6, B = 11 and K = 2, your function should return 3, because there are three numbers divisible by 2 within the range [6..11], namely 6, 8 and 10.\n",
        "\n",
        "Write an efficient algorithm for the following assumptions:\n",
        "\n",
        "A and B are integers within the range [0..2,000,000,000];\n",
        "K is an integer within the range [1..2,000,000,000];\n",
        "A ≤ B."
      ]
    },
    {
      "cell_type": "code",
      "metadata": {
        "id": "6_yWUBlvcHto",
        "colab_type": "code",
        "colab": {}
      },
      "source": [
        "def solution(A, B, K):\n",
        "    # 方法一\n",
        "    # counter = 0\n",
        "    # for i in range(A, B):\n",
        "    #     if i % K == 0:\n",
        "    #         counter += 1\n",
        "\n",
        "    # 方法二\n",
        "    # 簡化 ((B // K + 1) * K - (A // K + 1) * K) / K + (1 if A % K == 0 else 0)\n",
        "    return (B // K + 1) - (A // K + 1) + (1 if A % K == 0 else 0)\n",
        "\n",
        "# test by myself\n",
        "print(solution(6, 11, 2))\n",
        "\n",
        "A = 0\n",
        "B = 0\n",
        "K = 5\n",
        "print(solution(A, B, K))"
      ],
      "execution_count": 0,
      "outputs": []
    }
  ]
}