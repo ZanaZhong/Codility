{
  "nbformat": 4,
  "nbformat_minor": 0,
  "metadata": {
    "colab": {
      "name": "BinaryGap.ipynb",
      "provenance": []
    },
    "kernelspec": {
      "name": "python3",
      "display_name": "Python 3"
    }
  },
  "cells": [
    {
      "cell_type": "markdown",
      "metadata": {
        "id": "I5joO4zHcKMr",
        "colab_type": "text"
      },
      "source": [
        "## BinaryGap\n",
        "---\n",
        "### 英文\n",
        "A binary gap within a positive integer N is any maximal sequence of consecutive zeros that is surrounded by ones at both ends in the binary representation of N.\n",
        "\n",
        "For example, number 9 has binary representation 1001 and contains a binary gap of length 2. The number 529 has binary representation 1000010001 and contains two binary gaps: one of length 4 and one of length 3. The number 20 has binary representation 10100 and contains one binary gap of length 1. The number 15 has binary representation 1111 and has no binary gaps. The number 32 has binary representation 100000 and has no binary gaps.\n",
        "\n",
        "Write a function:\n",
        "\n",
        "    function solution($N);\n",
        "\n",
        "that, given a positive integer N, returns the length of its longest binary gap. The function should return 0 if N doesn't contain a binary gap.\n",
        "\n",
        "For example, given N = 1041 the function should return 5, because N has binary representation 10000010001 and so its longest binary gap is of length 5. Given N = 32 the function should return 0, because N has binary representation '100000' and thus no binary gaps.\n",
        "\n",
        "Write an efficient algorithm for the following assumptions:\n",
        "\n",
        "    N is an integer within the range [1..2,147,483,647].\n",
        "\n",
        "\n",
        "### 中文\n",
        "一個二進制正整數 N，\n",
        "舉例來說 9 二進制為 1001 含有二進制的間隙長度為 2  \n",
        "數字 525 二進制為 1000010001 含有兩種二進制間隙分別為 4 跟 3  \n",
        "數字 20 二進制為 10100 二進制間隙為 1  \n",
        "數字 15 二進制為 1111 則沒有二進制間\n",
        "\n",
        "---\n",
        "### reference\n",
        "- [int to binary](https://www.quora.com/How-do-I-convert-integers-to-binary-in-Python-3)\n",
        "- [split & strip](https://codertw.com/%E7%A8%8B%E5%BC%8F%E8%AA%9E%E8%A8%80/367017/) 此題沒加 strip('0') 的話 32 = 100000 return 5 except 0 "
      ]
    },
    {
      "cell_type": "code",
      "metadata": {
        "id": "6_yWUBlvcHto",
        "colab_type": "code",
        "colab": {}
      },
      "source": [
        "def solution(N):\n",
        "    print(format(N,'b'))\n",
        "    return len(max(format(N,'b').strip('0').split('1')))\n",
        "\n",
        "# test by myself\n",
        "N = 32\n",
        "print(solution(N))"
      ],
      "execution_count": 0,
      "outputs": []
    }
  ]
}