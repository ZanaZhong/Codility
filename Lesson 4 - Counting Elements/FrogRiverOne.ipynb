{
  "nbformat": 4,
  "nbformat_minor": 0,
  "metadata": {
    "colab": {
      "name": "FrogRiverOne.ipynb",
      "provenance": []
    },
    "kernelspec": {
      "name": "python3",
      "display_name": "Python 3"
    }
  },
  "cells": [
    {
      "cell_type": "markdown",
      "metadata": {
        "id": "I5joO4zHcKMr",
        "colab_type": "text"
      },
      "source": [
        "## FrogRiverOne\n",
        "---\n",
        "A small frog wants to get to the other side of a river. The frog is initially located on one bank of the river (position 0) and wants to get to the opposite bank (position X+1). Leaves fall from a tree onto the surface of the river.\n",
        "\n",
        "You are given an array A consisting of N integers representing the falling leaves. A[K] represents the position where one leaf falls at time K, measured in seconds.\n",
        "\n",
        "The goal is to find the earliest time when the frog can jump to the other side of the river. The frog can cross only when leaves appear at every position across the river from 1 to X (that is, we want to find the earliest moment when all the positions from 1 to X are covered by leaves). You may assume that the speed of the current in the river is negligibly small, i.e. the leaves do not change their positions once they fall in the river.\n",
        "\n",
        "For example, you are given integer X = 5 and array A such that:\n",
        "\n",
        "    A[0] = 1\n",
        "    A[1] = 3\n",
        "    A[2] = 1\n",
        "    A[3] = 4\n",
        "    A[4] = 2\n",
        "    A[5] = 3\n",
        "    A[6] = 5\n",
        "    A[7] = 4\n",
        "In second 6, a leaf falls into position 5. This is the earliest time when leaves appear in every position across the river.\n",
        "\n",
        "Write a function:\n",
        "\n",
        "def solution(X, A)\n",
        "\n",
        "that, given a non-empty array A consisting of N integers and integer X, returns the earliest time when the frog can jump to the other side of the river.\n",
        "\n",
        "If the frog is never able to jump to the other side of the river, the function should return −1.\n",
        "\n",
        "For example, given X = 5 and array A such that:\n",
        "\n",
        "    A[0] = 1\n",
        "    A[1] = 3\n",
        "    A[2] = 1\n",
        "    A[3] = 4\n",
        "    A[4] = 2\n",
        "    A[5] = 3\n",
        "    A[6] = 5\n",
        "    A[7] = 4\n",
        "the function should return 6, as explained above.\n",
        "\n",
        "Write an efficient algorithm for the following assumptions:\n",
        "\n",
        "N and X are integers within the range [1..100,000];\n",
        "each element of array A is an integer within the range [1..X].\n",
        "\n",
        "---\n",
        "## reference\n",
        "- [set() 用法](https://www.itread01.com/content/1542918370.html)"
      ]
    },
    {
      "cell_type": "code",
      "metadata": {
        "id": "6_yWUBlvcHto",
        "colab_type": "code",
        "colab": {
          "base_uri": "https://localhost:8080/",
          "height": 34
        },
        "outputId": "a05f6e42-730b-449b-8e84-3ddc417d8cef"
      },
      "source": [
        "def solution(X, A):\n",
        "    s = set()\n",
        "    for i in range(len(A)):\n",
        "        # 一個一個加到set，直到湊到X個\n",
        "        s.add(A[i])\n",
        "        if len(s) == X:\n",
        "            return i\n",
        "\n",
        "    return -1\n",
        "\n",
        "# test by myself\n",
        "X = 5\n",
        "A = [1 ,3 ,1 ,4 ,2 ,3, 5, 4]\n",
        "print(solution(X , A))\n",
        "\n",
        "X = 3\n",
        "A = [1, 3, 1, 3, 2, 1, 3]\n",
        "print(solution(X , A))"
      ],
      "execution_count": 1,
      "outputs": [
        {
          "output_type": "stream",
          "text": [
            "7\n"
          ],
          "name": "stdout"
        }
      ]
    }
  ]
}