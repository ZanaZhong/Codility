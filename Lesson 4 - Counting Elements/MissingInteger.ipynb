{
  "nbformat": 4,
  "nbformat_minor": 0,
  "metadata": {
    "colab": {
      "name": "MissingInteger.ipynb",
      "provenance": []
    },
    "kernelspec": {
      "name": "python3",
      "display_name": "Python 3"
    }
  },
  "cells": [
    {
      "cell_type": "markdown",
      "metadata": {
        "id": "I5joO4zHcKMr",
        "colab_type": "text"
      },
      "source": [
        "## MissingInteger\n",
        "---\n",
        "This is a demo task.\n",
        "\n",
        "Write a function:\n",
        "\n",
        "    def solution(A)\n",
        "\n",
        "that, given an array A of N integers, returns the smallest positive integer (greater than 0) that does not occur in A.\n",
        "\n",
        "For example, given A = [1, 3, 6, 4, 1, 2], the function should return 5.\n",
        "\n",
        "Given A = [1, 2, 3], the function should return 4.\n",
        "\n",
        "Given A = [−1, −3], the function should return 1.\n",
        "\n",
        "Write an efficient algorithm for the following assumptions:\n",
        "\n",
        "N is an integer within the range [1..100,000];\n",
        "each element of array A is an integer within the range [−1,000,000..1,000,000]."
      ]
    },
    {
      "cell_type": "code",
      "metadata": {
        "id": "6_yWUBlvcHto",
        "colab_type": "code",
        "colab": {
          "base_uri": "https://localhost:8080/",
          "height": 68
        },
        "outputId": "162a98f3-9d55-4757-ca49-0b595e186f80"
      },
      "source": [
        "# A = list(range(1 , 10))\n",
        "def solution(A):\n",
        "    missing = 1\n",
        "    while missing in set(A):\n",
        "            missing += 1\n",
        "    return missing\n",
        "\n",
        "# score 66%\n",
        "\n",
        "# 用set比較快\n",
        "def solution(A):\n",
        "    return min(set(range(1, len(A) + 2)) - set(A))\n",
        "\n",
        "A = [1, 3, 6, 4, 1, 2]\n",
        "print(solution(A))\n",
        "\n",
        "A = [1, 2, 3]\n",
        "print(solution(A))\n",
        "\n",
        "A = [-1, -3]\n",
        "print(solution(A))"
      ],
      "execution_count": 5,
      "outputs": [
        {
          "output_type": "stream",
          "text": [
            "5\n",
            "4\n",
            "1\n"
          ],
          "name": "stdout"
        }
      ]
    }
  ]
}