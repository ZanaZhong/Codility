{
  "nbformat": 4,
  "nbformat_minor": 0,
  "metadata": {
    "colab": {
      "name": "MaxCounters.ipynb",
      "provenance": []
    },
    "kernelspec": {
      "name": "python3",
      "display_name": "Python 3"
    }
  },
  "cells": [
    {
      "cell_type": "markdown",
      "metadata": {
        "id": "I5joO4zHcKMr",
        "colab_type": "text"
      },
      "source": [
        "## MaxCounters\n",
        "---\n",
        "You are given N counters, initially set to 0, and you have two possible operations on them:\n",
        "\n",
        "increase(X) − counter X is increased by 1,\n",
        "max counter − all counters are set to the maximum value of any counter.\n",
        "A non-empty array A of M integers is given. This array represents consecutive operations:\n",
        "\n",
        "if A[K] = X, such that 1 ≤ X ≤ N, then operation K is increase(X),\n",
        "if A[K] = N + 1 then operation K is max counter.\n",
        "For example, given integer N = 5 and array A such that:\n",
        "\n",
        "    A[0] = 3\n",
        "    A[1] = 4\n",
        "    A[2] = 4\n",
        "    A[3] = 6\n",
        "    A[4] = 1\n",
        "    A[5] = 4\n",
        "    A[6] = 4\n",
        "the values of the counters after each consecutive operation will be:\n",
        "\n",
        "    (0, 0, 1, 0, 0)\n",
        "    (0, 0, 1, 1, 0)\n",
        "    (0, 0, 1, 2, 0)\n",
        "    (2, 2, 2, 2, 2)\n",
        "    (3, 2, 2, 2, 2)\n",
        "    (3, 2, 2, 3, 2)\n",
        "    (3, 2, 2, 4, 2)\n",
        "The goal is to calculate the value of every counter after all operations.\n",
        "\n",
        "Write a function:\n",
        "\n",
        "    def solution(N, A)\n",
        "\n",
        "that, given an integer N and a non-empty array A consisting of M integers, returns a sequence of integers representing the values of the counters.\n",
        "\n",
        "Result array should be returned as an array of integers.\n",
        "\n",
        "For example, given:\n",
        "\n",
        "    A[0] = 3\n",
        "    A[1] = 4\n",
        "    A[2] = 4\n",
        "    A[3] = 6\n",
        "    A[4] = 1\n",
        "    A[5] = 4\n",
        "    A[6] = 4\n",
        "the function should return [3, 2, 2, 4, 2], as explained above.\n",
        "\n",
        "Write an efficient algorithm for the following assumptions:\n",
        "\n",
        "N and M are integers within the range [1..100,000];\n",
        "each element of array A is an integer within the range [1..N + 1].\n",
        "\n",
        "\n",
        "https://nkust.gitbook.io/python/untitled"
      ]
    },
    {
      "cell_type": "code",
      "metadata": {
        "id": "6_yWUBlvcHto",
        "colab_type": "code",
        "colab": {
          "base_uri": "https://localhost:8080/",
          "height": 34
        },
        "outputId": "a05f6e42-730b-449b-8e84-3ddc417d8cef"
      },
      "source": [
        "def solution(N, A):\n",
        "    result = [0] * N\n",
        "    for i in A:\n",
        "        # print(result)\n",
        "        if i >= 1 and i <= N:\n",
        "            result[i - 1] += 1\n",
        "        else:\n",
        "            result[:] = [max(result)] * N\n",
        "    return result\n",
        "\n",
        "# test by myself\n",
        "\n",
        "N = 5\n",
        "A = [3, 4, 4, 6, 1, 4, 4]\n",
        "print(solution(N, A))\n",
        "# price = 66%\n",
        "\n",
        "# 參考網路上的 做法是最後才讓整個list改變成max\n",
        "def solution(N, A):\n",
        "    result = [0] * N\n",
        "    max_to_set = 0\n",
        "    current_max = 0\n",
        "    for ptr in A:\n",
        "        print(result, 'max', max_to_set)\n",
        "        if 1 <= ptr <= N:\n",
        "\n",
        "            if result[ptr - 1] < max_to_set:\n",
        "                result[ptr - 1] = max_to_set\n",
        "\n",
        "            result[ptr - 1] += 1\n",
        "\n",
        "            if current_max < result[ptr - 1]:\n",
        "                current_max = result[ptr - 1]\n",
        "\n",
        "        else:\n",
        "            max_to_set = current_max\n",
        "\n",
        "    return [max(max_to_set, i) for i in result]\n",
        "# price = 100%"
      ],
      "execution_count": 1,
      "outputs": [
        {
          "output_type": "stream",
          "text": [
            "7\n"
          ],
          "name": "stdout"
        }
      ]
    }
  ]
}