{
  "nbformat": 4,
  "nbformat_minor": 0,
  "metadata": {
    "colab": {
      "name": "PermCheck.ipynb",
      "provenance": []
    },
    "kernelspec": {
      "name": "python3",
      "display_name": "Python 3"
    }
  },
  "cells": [
    {
      "cell_type": "markdown",
      "metadata": {
        "id": "I5joO4zHcKMr",
        "colab_type": "text"
      },
      "source": [
        "## PermCheck\n",
        "---\n",
        "A non-empty array A consisting of N integers is given.\n",
        "\n",
        "A permutation is a sequence containing each element from 1 to N once, and only once.\n",
        "\n",
        "For example, array A such that:\n",
        "\n",
        "    A[0] = 4\n",
        "    A[1] = 1\n",
        "    A[2] = 3\n",
        "    A[3] = 2\n",
        "is a permutation, but array A such that:\n",
        "\n",
        "    A[0] = 4\n",
        "    A[1] = 1\n",
        "    A[2] = 3\n",
        "is not a permutation, because value 2 is missing.\n",
        "\n",
        "The goal is to check whether array A is a permutation.\n",
        "\n",
        "Write a function:\n",
        "\n",
        "    def solution(A)\n",
        "\n",
        "that, given an array A, returns 1 if array A is a permutation and 0 if it is not.\n",
        "\n",
        "For example, given array A such that:\n",
        "\n",
        "    A[0] = 4\n",
        "    A[1] = 1\n",
        "    A[2] = 3\n",
        "    A[3] = 2\n",
        "the function should return 1.\n",
        "\n",
        "Given array A such that:\n",
        "\n",
        "    A[0] = 4\n",
        "    A[1] = 1\n",
        "    A[2] = 3\n",
        "the function should return 0.\n",
        "\n",
        "Write an efficient algorithm for the following assumptions:\n",
        "\n",
        "N is an integer within the range [1..100,000];\n",
        "each element of array A is an integer within the range [1..1,000,000,000].\n",
        "\n",
        "---\n",
        "## reference:\n"
      ]
    },
    {
      "cell_type": "code",
      "metadata": {
        "id": "6_yWUBlvcHto",
        "colab_type": "code",
        "colab": {
          "base_uri": "https://localhost:8080/",
          "height": 34
        },
        "outputId": "efc045d3-e914-4cfd-9eae-eb3d785a5465"
      },
      "source": [
        "def solution(A):\n",
        "    a = set(A)\n",
        "    if len(a) == max(a) and len(A) == len(a):\n",
        "        return 1\n",
        "    else:\n",
        "        return 0\n",
        "\n",
        "# test by myself\n",
        "A = [4 ,1 ,3, 2]\n",
        "print(solution(A))"
      ],
      "execution_count": 2,
      "outputs": [
        {
          "output_type": "stream",
          "text": [
            "1\n"
          ],
          "name": "stdout"
        }
      ]
    }
  ]
}